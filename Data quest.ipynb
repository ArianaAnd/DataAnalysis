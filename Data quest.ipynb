{
 "cells": [
  {
   "cell_type": "code",
   "execution_count": 3,
   "metadata": {},
   "outputs": [
    {
     "name": "stdout",
     "output_type": "stream",
     "text": [
      "(268, 14)\n"
     ]
    },
    {
     "data": {
      "text/html": [
       "<div>\n",
       "<style scoped>\n",
       "    .dataframe tbody tr th:only-of-type {\n",
       "        vertical-align: middle;\n",
       "    }\n",
       "\n",
       "    .dataframe tbody tr th {\n",
       "        vertical-align: top;\n",
       "    }\n",
       "\n",
       "    .dataframe thead th {\n",
       "        text-align: right;\n",
       "    }\n",
       "</style>\n",
       "<table border=\"1\" class=\"dataframe\">\n",
       "  <thead>\n",
       "    <tr style=\"text-align: right;\">\n",
       "      <th></th>\n",
       "      <th>listings</th>\n",
       "      <th>url</th>\n",
       "      <th>guests</th>\n",
       "      <th>bedrooms</th>\n",
       "      <th>beds</th>\n",
       "      <th>bathrooms</th>\n",
       "      <th>room_type</th>\n",
       "      <th>price</th>\n",
       "      <th>host_name</th>\n",
       "      <th>reviews</th>\n",
       "      <th>stars</th>\n",
       "      <th>location</th>\n",
       "      <th>latitude</th>\n",
       "      <th>longitude</th>\n",
       "    </tr>\n",
       "  </thead>\n",
       "  <tbody>\n",
       "    <tr>\n",
       "      <td>0</td>\n",
       "      <td>\"FUNTASTIC\"Hostel in the Centre:   Stage</td>\n",
       "      <td>https://www.airbnb.com.ro/rooms/37103158?locat...</td>\n",
       "      <td>10</td>\n",
       "      <td>1</td>\n",
       "      <td>1</td>\n",
       "      <td>1</td>\n",
       "      <td>Shared room in the apartment</td>\n",
       "      <td>81.0</td>\n",
       "      <td>George</td>\n",
       "      <td>18</td>\n",
       "      <td>4.67</td>\n",
       "      <td>Brasov, Romania</td>\n",
       "      <td>4564293</td>\n",
       "      <td>2559111</td>\n",
       "    </tr>\n",
       "    <tr>\n",
       "      <td>1</td>\n",
       "      <td>\"ROOM 88\" Unique Experience Location and Light...</td>\n",
       "      <td>https://www.airbnb.com.ro/rooms/39272931?locat...</td>\n",
       "      <td>4</td>\n",
       "      <td>1</td>\n",
       "      <td>1</td>\n",
       "      <td>1</td>\n",
       "      <td>Entire home</td>\n",
       "      <td>215.0</td>\n",
       "      <td>Tudor</td>\n",
       "      <td>34</td>\n",
       "      <td>4.91</td>\n",
       "      <td>Brasov, Romania</td>\n",
       "      <td>4563993</td>\n",
       "      <td>2559325</td>\n",
       "    </tr>\n",
       "    <tr>\n",
       "      <td>2</td>\n",
       "      <td>2   Spacious &amp; Modern Apartament</td>\n",
       "      <td>https://www.airbnb.com.ro/rooms/39502159?locat...</td>\n",
       "      <td>4</td>\n",
       "      <td>2</td>\n",
       "      <td>2</td>\n",
       "      <td>1</td>\n",
       "      <td>Entire home</td>\n",
       "      <td>140.0</td>\n",
       "      <td>Costi</td>\n",
       "      <td>5</td>\n",
       "      <td>5.00</td>\n",
       "      <td>Brasov, Romania</td>\n",
       "      <td>4567176</td>\n",
       "      <td>256098</td>\n",
       "    </tr>\n",
       "    <tr>\n",
       "      <td>3</td>\n",
       "      <td>4-5 apartament</td>\n",
       "      <td>https://www.airbnb.com.ro/rooms/30854683?locat...</td>\n",
       "      <td>4</td>\n",
       "      <td>2</td>\n",
       "      <td>2</td>\n",
       "      <td>1</td>\n",
       "      <td>Entire home</td>\n",
       "      <td>121.0</td>\n",
       "      <td>Nicu</td>\n",
       "      <td>0</td>\n",
       "      <td>0.00</td>\n",
       "      <td>Brasov, Romania</td>\n",
       "      <td>4564067</td>\n",
       "      <td>256102754</td>\n",
       "    </tr>\n",
       "    <tr>\n",
       "      <td>4</td>\n",
       "      <td>5 Stars luxury 1</td>\n",
       "      <td>https://www.airbnb.com.ro/rooms/40392854?locat...</td>\n",
       "      <td>2</td>\n",
       "      <td>1</td>\n",
       "      <td>1</td>\n",
       "      <td>1</td>\n",
       "      <td>Entire home</td>\n",
       "      <td>131.0</td>\n",
       "      <td>Marius</td>\n",
       "      <td>12</td>\n",
       "      <td>4.83</td>\n",
       "      <td>Brasov, Romania</td>\n",
       "      <td>4563885</td>\n",
       "      <td>2563439</td>\n",
       "    </tr>\n",
       "    <tr>\n",
       "      <td>...</td>\n",
       "      <td>...</td>\n",
       "      <td>...</td>\n",
       "      <td>...</td>\n",
       "      <td>...</td>\n",
       "      <td>...</td>\n",
       "      <td>...</td>\n",
       "      <td>...</td>\n",
       "      <td>...</td>\n",
       "      <td>...</td>\n",
       "      <td>...</td>\n",
       "      <td>...</td>\n",
       "      <td>...</td>\n",
       "      <td>...</td>\n",
       "      <td>...</td>\n",
       "    </tr>\n",
       "    <tr>\n",
       "      <td>263</td>\n",
       "      <td>ZEN HOUSE centre of Bv</td>\n",
       "      <td>https://www.airbnb.com.ro/rooms/42726300?locat...</td>\n",
       "      <td>6</td>\n",
       "      <td>2</td>\n",
       "      <td>0</td>\n",
       "      <td>2</td>\n",
       "      <td>Entire home</td>\n",
       "      <td>439.0</td>\n",
       "      <td>Vartej</td>\n",
       "      <td>1</td>\n",
       "      <td>0.00</td>\n",
       "      <td>Brasov, Romania</td>\n",
       "      <td>456394</td>\n",
       "      <td>2558782</td>\n",
       "    </tr>\n",
       "    <tr>\n",
       "      <td>264</td>\n",
       "      <td>Zen 1</td>\n",
       "      <td>https://www.airbnb.com.ro/rooms/41489971?locat...</td>\n",
       "      <td>4</td>\n",
       "      <td>1</td>\n",
       "      <td>2</td>\n",
       "      <td>1</td>\n",
       "      <td>Entire home</td>\n",
       "      <td>200.0</td>\n",
       "      <td>Alin</td>\n",
       "      <td>28</td>\n",
       "      <td>4.75</td>\n",
       "      <td>Brasov, Romania</td>\n",
       "      <td>4563889</td>\n",
       "      <td>2558947</td>\n",
       "    </tr>\n",
       "    <tr>\n",
       "      <td>265</td>\n",
       "      <td>Zoom Room 102 Old Town Center</td>\n",
       "      <td>https://www.airbnb.com.ro/rooms/41105469?locat...</td>\n",
       "      <td>2</td>\n",
       "      <td>1</td>\n",
       "      <td>1</td>\n",
       "      <td>1</td>\n",
       "      <td>Private room in apartament</td>\n",
       "      <td>350.0</td>\n",
       "      <td>Ionut</td>\n",
       "      <td>5</td>\n",
       "      <td>5.00</td>\n",
       "      <td>Brasov, Romania</td>\n",
       "      <td>4564219</td>\n",
       "      <td>2559279</td>\n",
       "    </tr>\n",
       "    <tr>\n",
       "      <td>266</td>\n",
       "      <td>Zoom Room 104 Old Town Center</td>\n",
       "      <td>https://www.airbnb.com.ro/rooms/41105712?locat...</td>\n",
       "      <td>2</td>\n",
       "      <td>1</td>\n",
       "      <td>1</td>\n",
       "      <td>1</td>\n",
       "      <td>Entire home</td>\n",
       "      <td>239.0</td>\n",
       "      <td>Ionut</td>\n",
       "      <td>1</td>\n",
       "      <td>0.00</td>\n",
       "      <td>Brasov, Romania</td>\n",
       "      <td>4564219</td>\n",
       "      <td>2559279</td>\n",
       "    </tr>\n",
       "    <tr>\n",
       "      <td>267</td>\n",
       "      <td>Zsizelle Residence</td>\n",
       "      <td>https://www.airbnb.com.ro/rooms/36500195?locat...</td>\n",
       "      <td>4</td>\n",
       "      <td>1</td>\n",
       "      <td>2</td>\n",
       "      <td>1</td>\n",
       "      <td>Entire home</td>\n",
       "      <td>99.0</td>\n",
       "      <td>Gyongyi</td>\n",
       "      <td>30</td>\n",
       "      <td>4.87</td>\n",
       "      <td>Brasov, Romania</td>\n",
       "      <td>456559</td>\n",
       "      <td>2559361</td>\n",
       "    </tr>\n",
       "  </tbody>\n",
       "</table>\n",
       "<p>268 rows × 14 columns</p>\n",
       "</div>"
      ],
      "text/plain": [
       "                                              listings  \\\n",
       "0             \"FUNTASTIC\"Hostel in the Centre:   Stage   \n",
       "1    \"ROOM 88\" Unique Experience Location and Light...   \n",
       "2                     2   Spacious & Modern Apartament   \n",
       "3                                       4-5 apartament   \n",
       "4                                     5 Stars luxury 1   \n",
       "..                                                 ...   \n",
       "263                             ZEN HOUSE centre of Bv   \n",
       "264                                              Zen 1   \n",
       "265                      Zoom Room 102 Old Town Center   \n",
       "266                      Zoom Room 104 Old Town Center   \n",
       "267                                 Zsizelle Residence   \n",
       "\n",
       "                                                   url  guests   bedrooms  \\\n",
       "0    https://www.airbnb.com.ro/rooms/37103158?locat...      10          1   \n",
       "1    https://www.airbnb.com.ro/rooms/39272931?locat...       4          1   \n",
       "2    https://www.airbnb.com.ro/rooms/39502159?locat...       4          2   \n",
       "3    https://www.airbnb.com.ro/rooms/30854683?locat...       4          2   \n",
       "4    https://www.airbnb.com.ro/rooms/40392854?locat...       2          1   \n",
       "..                                                 ...     ...        ...   \n",
       "263  https://www.airbnb.com.ro/rooms/42726300?locat...       6          2   \n",
       "264  https://www.airbnb.com.ro/rooms/41489971?locat...       4          1   \n",
       "265  https://www.airbnb.com.ro/rooms/41105469?locat...       2          1   \n",
       "266  https://www.airbnb.com.ro/rooms/41105712?locat...       2          1   \n",
       "267  https://www.airbnb.com.ro/rooms/36500195?locat...       4          1   \n",
       "\n",
       "      beds   bathrooms                     room_type  price host_name  \\\n",
       "0        1           1  Shared room in the apartment   81.0    George   \n",
       "1        1           1                   Entire home  215.0     Tudor   \n",
       "2        2           1                   Entire home  140.0     Costi   \n",
       "3        2           1                   Entire home  121.0      Nicu   \n",
       "4        1           1                   Entire home  131.0    Marius   \n",
       "..     ...         ...                           ...    ...       ...   \n",
       "263      0           2                   Entire home  439.0    Vartej   \n",
       "264      2           1                   Entire home  200.0      Alin   \n",
       "265      1           1    Private room in apartament  350.0     Ionut   \n",
       "266      1           1                   Entire home  239.0     Ionut   \n",
       "267      2           1                   Entire home   99.0   Gyongyi   \n",
       "\n",
       "     reviews  stars         location latitude  longitude  \n",
       "0         18   4.67  Brasov, Romania  4564293    2559111  \n",
       "1         34   4.91  Brasov, Romania  4563993    2559325  \n",
       "2          5   5.00  Brasov, Romania  4567176     256098  \n",
       "3          0   0.00  Brasov, Romania  4564067  256102754  \n",
       "4         12   4.83  Brasov, Romania  4563885    2563439  \n",
       "..       ...    ...              ...      ...        ...  \n",
       "263        1   0.00  Brasov, Romania   456394    2558782  \n",
       "264       28   4.75  Brasov, Romania  4563889    2558947  \n",
       "265        5   5.00  Brasov, Romania  4564219    2559279  \n",
       "266        1   0.00  Brasov, Romania  4564219    2559279  \n",
       "267       30   4.87  Brasov, Romania   456559    2559361  \n",
       "\n",
       "[268 rows x 14 columns]"
      ]
     },
     "execution_count": 3,
     "metadata": {},
     "output_type": "execute_result"
    }
   ],
   "source": [
    "import pandas as pd\n",
    "dc_listings = pd.read_csv('airbnb_datesv2.csv', sep=';')\n",
    "print(dc_listings.shape)\n",
    "dc_listings"
   ]
  },
  {
   "cell_type": "code",
   "execution_count": 4,
   "metadata": {},
   "outputs": [
    {
     "name": "stdout",
     "output_type": "stream",
     "text": [
      "7\n"
     ]
    }
   ],
   "source": [
    "import numpy as np\n",
    "our_acc_value = 3\n",
    "first_living_space_value = dc_listings.loc[0,'guests']\n",
    "first_distance = np.abs(first_living_space_value - our_acc_value)\n",
    "print(first_distance)"
   ]
  },
  {
   "cell_type": "code",
   "execution_count": 5,
   "metadata": {},
   "outputs": [
    {
     "data": {
      "text/plain": [
       "0      26\n",
       "1     191\n",
       "2      16\n",
       "3      21\n",
       "4       3\n",
       "5       6\n",
       "7       2\n",
       "11      1\n",
       "13      2\n",
       "Name: distance, dtype: int64"
      ]
     },
     "execution_count": 5,
     "metadata": {},
     "output_type": "execute_result"
    }
   ],
   "source": [
    "dc_listings['distance'] = np.abs(dc_listings.guests - our_acc_value)\n",
    "dc_listings.distance.value_counts().sort_index()"
   ]
  },
  {
   "cell_type": "code",
   "execution_count": 6,
   "metadata": {
    "scrolled": true
   },
   "outputs": [
    {
     "data": {
      "text/plain": [
       "254    160.0\n",
       "93     165.0\n",
       "99     185.0\n",
       "95     165.0\n",
       "253    115.0\n",
       "Name: price, dtype: float64"
      ]
     },
     "execution_count": 6,
     "metadata": {},
     "output_type": "execute_result"
    }
   ],
   "source": [
    "dc_listings = dc_listings.sample(frac=1,random_state=0)\n",
    "dc_listings = dc_listings.sort_values('distance')\n",
    "dc_listings.price.head()"
   ]
  },
  {
   "cell_type": "code",
   "execution_count": 7,
   "metadata": {},
   "outputs": [
    {
     "data": {
      "text/plain": [
       "158.0"
      ]
     },
     "execution_count": 7,
     "metadata": {},
     "output_type": "execute_result"
    }
   ],
   "source": [
    "dc_listings['price'] = dc_listings.price.astype(float)\n",
    "mean_price = dc_listings.price.iloc[:5].mean()\n",
    "mean_price"
   ]
  },
  {
   "cell_type": "code",
   "execution_count": 8,
   "metadata": {},
   "outputs": [],
   "source": [
    "train_df = dc_listings.copy().iloc[:268]\n",
    "test_df = dc_listings.copy().iloc[1:]"
   ]
  },
  {
   "cell_type": "code",
   "execution_count": 9,
   "metadata": {},
   "outputs": [],
   "source": [
    "def predict_price(new_listing_value,feature_column):\n",
    "    temp_df = train_df\n",
    "    temp_df['distance'] = np.abs(dc_listings[feature_column] - new_listing_value)\n",
    "    temp_df = temp_df.sort_values('distance')\n",
    "    knn_5 = temp_df.price.iloc[:5]\n",
    "    predicted_price = knn_5.mean()\n",
    "    return(predicted_price)"
   ]
  },
  {
   "cell_type": "code",
   "execution_count": 10,
   "metadata": {},
   "outputs": [],
   "source": [
    "test_df['predicted_price'] = test_df.guests.apply(predict_price,feature_column='guests')"
   ]
  },
  {
   "cell_type": "code",
   "execution_count": 11,
   "metadata": {},
   "outputs": [
    {
     "data": {
      "text/plain": [
       "88.6715179131311"
      ]
     },
     "execution_count": 11,
     "metadata": {},
     "output_type": "execute_result"
    }
   ],
   "source": [
    "test_df['squared_error'] = (test_df['predicted_price'] - test_df['price'])**(2)\n",
    "mse = test_df['squared_error'].mean()\n",
    "rmse = mse ** (1/2)\n",
    "rmse"
   ]
  },
  {
   "cell_type": "code",
   "execution_count": 12,
   "metadata": {},
   "outputs": [
    {
     "name": "stdout",
     "output_type": "stream",
     "text": [
      "RMSE for the guests column: 88.6715179131311\n"
     ]
    }
   ],
   "source": [
    "for feature in ['guests']:\n",
    "    test_df['predicted_price'] = test_df.guests.apply(predict_price,feature_column=feature)\n",
    "    test_df['squared_error'] = (test_df['predicted_price'] - test_df['price'])**(2)\n",
    "    mse = test_df['squared_error'].mean()\n",
    "    rmse = mse ** (1/2)\n",
    "    print(\"RMSE for the {} column: {}\".format(feature,rmse))"
   ]
  },
  {
   "cell_type": "code",
   "execution_count": 13,
   "metadata": {},
   "outputs": [
    {
     "name": "stdout",
     "output_type": "stream",
     "text": [
      "RMSE for the price column: 4.2583636550589\n"
     ]
    }
   ],
   "source": [
    "for feature in ['price']:\n",
    "    test_df['predicted_price'] = test_df.price.apply(predict_price,feature_column=feature)\n",
    "    test_df['squared_error'] = (test_df['predicted_price'] - test_df['price'])**(2)\n",
    "    mse = test_df['squared_error'].mean()\n",
    "    rmse = mse ** (1/2)\n",
    "    print(\"RMSE for the {} column: {}\".format(feature,rmse))"
   ]
  },
  {
   "cell_type": "code",
   "execution_count": 14,
   "metadata": {},
   "outputs": [
    {
     "name": "stdout",
     "output_type": "stream",
     "text": [
      "RMSE for the reviews column: 94.61939225107373\n"
     ]
    }
   ],
   "source": [
    "for feature in ['reviews']:\n",
    "    test_df['predicted_price'] = test_df.reviews.apply(predict_price,feature_column=feature)\n",
    "    test_df['squared_error'] = (test_df['predicted_price'] - test_df['price'])**(2)\n",
    "    mse = test_df['squared_error'].mean()\n",
    "    rmse = mse ** (1/2)\n",
    "    print(\"RMSE for the {} column: {}\".format(feature,rmse))"
   ]
  },
  {
   "cell_type": "code",
   "execution_count": 26,
   "metadata": {},
   "outputs": [
    {
     "data": {
      "text/plain": [
       "[<matplotlib.lines.Line2D at 0x15aff401bc8>]"
      ]
     },
     "execution_count": 26,
     "metadata": {},
     "output_type": "execute_result"
    },
    {
     "data": {
      "image/png": "[encoded data removed]",
      "text/plain": [
       "<Figure size 1152x576 with 1 Axes>"
      ]
     },
     "metadata": {
      "needs_background": "light"
     },
     "output_type": "display_data"
    }
   ],
   "source": [
    "import matplotlib.pyplot as plt\n",
    "%matplotlib inline\n",
    "plt.figure(figsize=(16,8))\n",
    "plt.plot(test_df['predicted_price'], 'bo')\n"
   ]
  },
  {
   "cell_type": "code",
   "execution_count": 16,
   "metadata": {},
   "outputs": [
    {
     "name": "stdout",
     "output_type": "stream",
     "text": [
      "(268, 14)\n"
     ]
    },
    {
     "data": {
      "text/html": [
       "<div>\n",
       "<style scoped>\n",
       "    .dataframe tbody tr th:only-of-type {\n",
       "        vertical-align: middle;\n",
       "    }\n",
       "\n",
       "    .dataframe tbody tr th {\n",
       "        vertical-align: top;\n",
       "    }\n",
       "\n",
       "    .dataframe thead th {\n",
       "        text-align: right;\n",
       "    }\n",
       "</style>\n",
       "<table border=\"1\" class=\"dataframe\">\n",
       "  <thead>\n",
       "    <tr style=\"text-align: right;\">\n",
       "      <th></th>\n",
       "      <th>listings</th>\n",
       "      <th>url</th>\n",
       "      <th>guests</th>\n",
       "      <th>bedrooms</th>\n",
       "      <th>beds</th>\n",
       "      <th>bathrooms</th>\n",
       "      <th>room_type</th>\n",
       "      <th>price</th>\n",
       "      <th>host_name</th>\n",
       "      <th>reviews</th>\n",
       "      <th>stars</th>\n",
       "      <th>location</th>\n",
       "      <th>latitude</th>\n",
       "      <th>longitude</th>\n",
       "    </tr>\n",
       "  </thead>\n",
       "  <tbody>\n",
       "    <tr>\n",
       "      <td>0</td>\n",
       "      <td>\"FUNTASTIC\"Hostel in the Centre:   Stage</td>\n",
       "      <td>https://www.airbnb.com.ro/rooms/37103158?locat...</td>\n",
       "      <td>10</td>\n",
       "      <td>1</td>\n",
       "      <td>1</td>\n",
       "      <td>1</td>\n",
       "      <td>Shared room in the apartment</td>\n",
       "      <td>81.0</td>\n",
       "      <td>George</td>\n",
       "      <td>18</td>\n",
       "      <td>4.67</td>\n",
       "      <td>Brasov, Romania</td>\n",
       "      <td>4564293</td>\n",
       "      <td>2559111</td>\n",
       "    </tr>\n",
       "    <tr>\n",
       "      <td>1</td>\n",
       "      <td>\"ROOM 88\" Unique Experience Location and Light...</td>\n",
       "      <td>https://www.airbnb.com.ro/rooms/39272931?locat...</td>\n",
       "      <td>4</td>\n",
       "      <td>1</td>\n",
       "      <td>1</td>\n",
       "      <td>1</td>\n",
       "      <td>Entire home</td>\n",
       "      <td>215.0</td>\n",
       "      <td>Tudor</td>\n",
       "      <td>34</td>\n",
       "      <td>4.91</td>\n",
       "      <td>Brasov, Romania</td>\n",
       "      <td>4563993</td>\n",
       "      <td>2559325</td>\n",
       "    </tr>\n",
       "    <tr>\n",
       "      <td>2</td>\n",
       "      <td>2   Spacious &amp; Modern Apartament</td>\n",
       "      <td>https://www.airbnb.com.ro/rooms/39502159?locat...</td>\n",
       "      <td>4</td>\n",
       "      <td>2</td>\n",
       "      <td>2</td>\n",
       "      <td>1</td>\n",
       "      <td>Entire home</td>\n",
       "      <td>140.0</td>\n",
       "      <td>Costi</td>\n",
       "      <td>5</td>\n",
       "      <td>5.00</td>\n",
       "      <td>Brasov, Romania</td>\n",
       "      <td>4567176</td>\n",
       "      <td>256098</td>\n",
       "    </tr>\n",
       "    <tr>\n",
       "      <td>3</td>\n",
       "      <td>4-5 apartament</td>\n",
       "      <td>https://www.airbnb.com.ro/rooms/30854683?locat...</td>\n",
       "      <td>4</td>\n",
       "      <td>2</td>\n",
       "      <td>2</td>\n",
       "      <td>1</td>\n",
       "      <td>Entire home</td>\n",
       "      <td>121.0</td>\n",
       "      <td>Nicu</td>\n",
       "      <td>0</td>\n",
       "      <td>0.00</td>\n",
       "      <td>Brasov, Romania</td>\n",
       "      <td>4564067</td>\n",
       "      <td>256102754</td>\n",
       "    </tr>\n",
       "    <tr>\n",
       "      <td>4</td>\n",
       "      <td>5 Stars luxury 1</td>\n",
       "      <td>https://www.airbnb.com.ro/rooms/40392854?locat...</td>\n",
       "      <td>2</td>\n",
       "      <td>1</td>\n",
       "      <td>1</td>\n",
       "      <td>1</td>\n",
       "      <td>Entire home</td>\n",
       "      <td>131.0</td>\n",
       "      <td>Marius</td>\n",
       "      <td>12</td>\n",
       "      <td>4.83</td>\n",
       "      <td>Brasov, Romania</td>\n",
       "      <td>4563885</td>\n",
       "      <td>2563439</td>\n",
       "    </tr>\n",
       "  </tbody>\n",
       "</table>\n",
       "</div>"
      ],
      "text/plain": [
       "                                            listings  \\\n",
       "0           \"FUNTASTIC\"Hostel in the Centre:   Stage   \n",
       "1  \"ROOM 88\" Unique Experience Location and Light...   \n",
       "2                   2   Spacious & Modern Apartament   \n",
       "3                                     4-5 apartament   \n",
       "4                                   5 Stars luxury 1   \n",
       "\n",
       "                                                 url  guests   bedrooms  \\\n",
       "0  https://www.airbnb.com.ro/rooms/37103158?locat...      10          1   \n",
       "1  https://www.airbnb.com.ro/rooms/39272931?locat...       4          1   \n",
       "2  https://www.airbnb.com.ro/rooms/39502159?locat...       4          2   \n",
       "3  https://www.airbnb.com.ro/rooms/30854683?locat...       4          2   \n",
       "4  https://www.airbnb.com.ro/rooms/40392854?locat...       2          1   \n",
       "\n",
       "    beds   bathrooms                     room_type  price host_name  reviews  \\\n",
       "0      1           1  Shared room in the apartment   81.0    George       18   \n",
       "1      1           1                   Entire home  215.0     Tudor       34   \n",
       "2      2           1                   Entire home  140.0     Costi        5   \n",
       "3      2           1                   Entire home  121.0      Nicu        0   \n",
       "4      1           1                   Entire home  131.0    Marius       12   \n",
       "\n",
       "   stars         location latitude  longitude  \n",
       "0   4.67  Brasov, Romania  4564293    2559111  \n",
       "1   4.91  Brasov, Romania  4563993    2559325  \n",
       "2   5.00  Brasov, Romania  4567176     256098  \n",
       "3   0.00  Brasov, Romania  4564067  256102754  \n",
       "4   4.83  Brasov, Romania  4563885    2563439  "
      ]
     },
     "execution_count": 16,
     "metadata": {},
     "output_type": "execute_result"
    }
   ],
   "source": [
    "normalized_listings = pd.read_csv('airbnb_datesv2.csv', sep=';')\n",
    "print(normalized_listings.shape)\n",
    "normalized_listings.head()"
   ]
  },
  {
   "cell_type": "code",
   "execution_count": 19,
   "metadata": {},
   "outputs": [],
   "source": [
    "normalized_listings = normalized_listings.sample(frac=1,random_state=0)\n",
    "norm_train_df = normalized_listings.copy().iloc[0:268]\n",
    "norm_test_df = normalized_listings.copy().iloc[1:]"
   ]
  },
  {
   "cell_type": "code",
   "execution_count": 33,
   "metadata": {},
   "outputs": [
    {
     "data": {
      "text/plain": [
       "[<matplotlib.lines.Line2D at 0x15affba1e88>]"
      ]
     },
     "execution_count": 33,
     "metadata": {},
     "output_type": "execute_result"
    },
    {
     "data": {
      "image/png": "[encoded data removed]",
      "text/plain": [
       "<Figure size 432x288 with 1 Axes>"
      ]
     },
     "metadata": {
      "needs_background": "light"
     },
     "output_type": "display_data"
    }
   ],
   "source": [
    "import matplotlib.pyplot as plt\n",
    "%matplotlib inline\n",
    "plt.plot(first_listing)"
   ]
  },
  {
   "cell_type": "code",
   "execution_count": 69,
   "metadata": {},
   "outputs": [
    {
     "data": {
      "text/plain": [
       "256.03124809288414"
      ]
     },
     "execution_count": 69,
     "metadata": {},
     "output_type": "execute_result"
    }
   ],
   "source": [
    "from scipy.spatial import distance\n",
    "first_listing = normalized_listings.iloc[0][['guests', 'price']]\n",
    "fifth_listing = normalized_listings.iloc[20][['guests', 'price']]\n",
    "first_fifth_distance = distance.euclidean(first_listing, fifth_listing)\n",
    "first_fifth_distance"
   ]
  },
  {
   "cell_type": "code",
   "execution_count": 70,
   "metadata": {},
   "outputs": [
    {
     "data": {
      "text/plain": [
       "256.0"
      ]
     },
     "execution_count": 70,
     "metadata": {},
     "output_type": "execute_result"
    }
   ],
   "source": [
    "round(first_fifth_distance)"
   ]
  },
  {
   "cell_type": "code",
   "execution_count": 71,
   "metadata": {},
   "outputs": [
    {
     "data": {
      "text/plain": [
       "9.848857801796104"
      ]
     },
     "execution_count": 71,
     "metadata": {},
     "output_type": "execute_result"
    }
   ],
   "source": [
    "from scipy.spatial import distance\n",
    "first_listing = normalized_listings.iloc[0][['guests', 'reviews']]\n",
    "fifth_listing = normalized_listings.iloc[20][['guests', 'reviews']]\n",
    "first_fifth_distance = distance.euclidean(first_listing, fifth_listing)\n",
    "first_fifth_distance\n"
   ]
  },
  {
   "cell_type": "code",
   "execution_count": 72,
   "metadata": {},
   "outputs": [
    {
     "data": {
      "text/plain": [
       "10.0"
      ]
     },
     "execution_count": 72,
     "metadata": {},
     "output_type": "execute_result"
    }
   ],
   "source": [
    "round(first_fifth_distance)"
   ]
  },
  {
   "cell_type": "code",
   "execution_count": 59,
   "metadata": {},
   "outputs": [
    {
     "name": "stdout",
     "output_type": "stream",
     "text": [
      "94.61939225107373\n"
     ]
    }
   ],
   "source": [
    "def predicted_price_multivariante(new_listing_value,feature_columns):\n",
    "    temp_df = norm_train_df\n",
    "    temp_df['distance'] = distance.cdist(temp_df[feature_columns],[new_listing_value[feature_columns]])\n",
    "    temp_df = temp_df.sort_values('distance')\n",
    "    knn_5 = temp_df.price.iloc[:5]\n",
    "    predicted_price = knn_5.mean()\n",
    "    return predicted_price_multivariante\n",
    "\n",
    "    cols = ['guests', 'reviews']\n",
    "    norm_test_df['predicted_price'] = norm_test_df[cols].apply(predicted_price_multivariante,feature_columns=cols)\n",
    "    norm_test_df['squared_error'] = (norm_test_df['predicted_price'] - norm_test_df['price'])**(2)\n",
    "    mse = norm_test_df['squared_error'].mean()\n",
    "rmse = mse ** (1/2)\n",
    "print(rmse)\n"
   ]
  },
  {
   "cell_type": "code",
   "execution_count": 73,
   "metadata": {},
   "outputs": [
    {
     "data": {
      "text/plain": [
       "95"
      ]
     },
     "execution_count": 73,
     "metadata": {},
     "output_type": "execute_result"
    }
   ],
   "source": [
    "round(rmse)"
   ]
  },
  {
   "cell_type": "code",
   "execution_count": 67,
   "metadata": {},
   "outputs": [
    {
     "data": {
      "image/png": "[encoded data removed]",
      "text/plain": [
       "<Figure size 432x288 with 1 Axes>"
      ]
     },
     "metadata": {
      "needs_background": "light"
     },
     "output_type": "display_data"
    }
   ],
   "source": [
    "plt.scatter(mse, rmse)\n",
    "plt.xlabel('mse')\n",
    "plt.ylabel('rmse')\n",
    "plt.show()"
   ]
  },
  {
   "cell_type": "code",
   "execution_count": 95,
   "metadata": {},
   "outputs": [
    {
     "name": "stdout",
     "output_type": "stream",
     "text": [
      "Requirement already satisfied: sklearn in c:\\users\\ariana\\anaconda3\\lib\\site-packages (0.0)\n",
      "Requirement already satisfied: scikit-learn in c:\\users\\ariana\\anaconda3\\lib\\site-packages (from sklearn) (0.21.3)\n",
      "Requirement already satisfied: joblib>=0.11 in c:\\users\\ariana\\anaconda3\\lib\\site-packages (from scikit-learn->sklearn) (0.13.2)\n",
      "Requirement already satisfied: numpy>=1.11.0 in c:\\users\\ariana\\anaconda3\\lib\\site-packages (from scikit-learn->sklearn) (1.16.5)\n",
      "Requirement already satisfied: scipy>=0.17.0 in c:\\users\\ariana\\anaconda3\\lib\\site-packages (from scikit-learn->sklearn) (1.4.1)\n"
     ]
    }
   ],
   "source": [
    "!pip install sklearn"
   ]
  },
  {
   "cell_type": "code",
   "execution_count": 104,
   "metadata": {},
   "outputs": [
    {
     "name": "stdout",
     "output_type": "stream",
     "text": [
      "Requirement already satisfied: scikit-learn in c:\\users\\ariana\\anaconda3\\lib\\site-packages (0.21.3)\n",
      "Requirement already satisfied: scipy>=0.17.0 in c:\\users\\ariana\\anaconda3\\lib\\site-packages (from scikit-learn) (1.4.1)\n",
      "Requirement already satisfied: numpy>=1.11.0 in c:\\users\\ariana\\anaconda3\\lib\\site-packages (from scikit-learn) (1.16.5)\n",
      "Requirement already satisfied: joblib>=0.11 in c:\\users\\ariana\\anaconda3\\lib\\site-packages (from scikit-learn) (0.13.2)\n"
     ]
    }
   ],
   "source": [
    "!pip install scikit-learn"
   ]
  },
  {
   "cell_type": "markdown",
   "metadata": {},
   "source": [
    "# Calculating MSE Using Scikit-Learn"
   ]
  },
  {
   "cell_type": "code",
   "execution_count": 116,
   "metadata": {},
   "outputs": [
    {
     "name": "stdout",
     "output_type": "stream",
     "text": [
      "83.75648167206164\n"
     ]
    }
   ],
   "source": [
    "from sklearn.metrics import mean_squared_error\n",
    "two_features_mse = mean_squared_error(norm_test_df['price'], two_features_predictions)\n",
    "two_features_rmse = two_features_mse ** (1/2)\n",
    "print(two_features_rmse)"
   ]
  },
  {
   "cell_type": "code",
   "execution_count": 117,
   "metadata": {},
   "outputs": [
    {
     "data": {
      "text/plain": [
       "83.75648167206164"
      ]
     },
     "execution_count": 117,
     "metadata": {},
     "output_type": "execute_result"
    }
   ],
   "source": [
    "knn = KNeighborsRegressor(algorithm='brute')\n",
    "cols = ['guests','reviews']\n",
    "knn.fit(norm_train_df[cols], norm_train_df['price'])\n",
    "four_features_predictions = knn.predict(norm_test_df[cols])\n",
    "four_features_mse = mean_squared_error(norm_test_df['price'], four_features_predictions)\n",
    "four_features_rmse = four_features_mse ** (1/2)\n",
    "four_features_rmse"
   ]
  },
  {
   "cell_type": "code",
   "execution_count": null,
   "metadata": {},
   "outputs": [],
   "source": []
  },
  {
   "cell_type": "code",
   "execution_count": null,
   "metadata": {},
   "outputs": [],
   "source": []
  }
 ],
 "metadata": {
  "kernelspec": {
   "display_name": "Python 3",
   "language": "python",
   "name": "python3"
  },
  "language_info": {
   "codemirror_mode": {
    "name": "ipython",
    "version": 3
   },
   "file_extension": ".py",
   "mimetype": "text/x-python",
   "name": "python",
   "nbconvert_exporter": "python",
   "pygments_lexer": "ipython3",
   "version": "3.7.4"
  }
 },
 "nbformat": 4,
 "nbformat_minor": 2
}
